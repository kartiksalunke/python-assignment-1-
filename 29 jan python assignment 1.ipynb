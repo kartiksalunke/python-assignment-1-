{
 "cells": [
  {
   "cell_type": "markdown",
   "id": "1501c377-347c-4840-ac5b-31083561ebbc",
   "metadata": {},
   "source": [
    "who devloped python programming language?"
   ]
  },
  {
   "cell_type": "markdown",
   "id": "fd803571-89fe-4193-8ad7-cb047d9e71c6",
   "metadata": {},
   "source": [
    "Guido van Rossum"
   ]
  },
  {
   "cell_type": "markdown",
   "id": "646c1f58-7405-462a-94fe-71d83f1f5c1f",
   "metadata": {},
   "source": [
    "2. Which type of programming does python support?"
   ]
  },
  {
   "cell_type": "markdown",
   "id": "e3361909-47b4-46c0-a540-b83c3e9afb73",
   "metadata": {},
   "source": [
    "Object oriented programing and structured programing"
   ]
  },
  {
   "cell_type": "markdown",
   "id": "53ec5d7c-e17c-475e-9078-53784fa3e731",
   "metadata": {},
   "source": [
    "\n",
    "3. is python case sensitive when dealing with identifier?"
   ]
  },
  {
   "cell_type": "markdown",
   "id": "b9d64c4f-d9b7-405b-b1ed-6c76afc0331a",
   "metadata": {},
   "source": [
    "\n",
    "yes it is a case sensitive"
   ]
  },
  {
   "cell_type": "markdown",
   "id": "2f2805ee-2024-4d7f-92c3-8458f6bc5289",
   "metadata": {},
   "source": [
    "4. what is the correct extension of python file?"
   ]
  },
  {
   "cell_type": "markdown",
   "id": "77c37cab-dae1-44c4-9a5c-6cc7e191b698",
   "metadata": {},
   "source": [
    "py"
   ]
  },
  {
   "cell_type": "markdown",
   "id": "9dcc3345-55e3-472d-b73d-a257ca917281",
   "metadata": {},
   "source": [
    "5. is python code compiled or interpreted ?"
   ]
  },
  {
   "cell_type": "markdown",
   "id": "6f5abaee-346f-4071-94cb-4ccfe6c54401",
   "metadata": {},
   "source": [
    "Python is an interpreted language, which means the source code of a Python program is converted into bytecode that is then executed by the Python virtual machine"
   ]
  },
  {
   "cell_type": "markdown",
   "id": "16483959-3be3-4510-acfb-79738151ed03",
   "metadata": {},
   "source": [
    "\n",
    "6. Name a few blocks of code used to define in Python language?"
   ]
  },
  {
   "cell_type": "markdown",
   "id": "0bce8a8c-568d-4d9f-94a7-813598b8377d",
   "metadata": {},
   "source": [
    "Python uses indentation to define blocks of code. Indentations are simply spaces or tabs used as an indicator that is part of the indent code child.\n",
    "\n",
    "if (condition):\n",
    "\n",
    "# Statement 1\n",
    "\n",
    "else:\n",
    "\n",
    "# Statement 2\n",
    "\n",
    "You will find that statements 1 will have the same indentation and therefore is of the same block. And similarly, statements 2 is of a another block."
   ]
  },
  {
   "cell_type": "markdown",
   "id": "2b03b345-9f81-48d7-84aa-27afb6647297",
   "metadata": {},
   "source": [
    "7. State a character used to give single-line comments in Python?\n"
   ]
  },
  {
   "cell_type": "markdown",
   "id": "43cc776c-899e-4ed7-a612-0f562edf5707",
   "metadata": {},
   "source": [
    "' # ' symbol to write a single-line comment.\n",
    "\n"
   ]
  },
  {
   "cell_type": "markdown",
   "id": "e5be3352-be26-45fc-80ea-d1bfaf00ecb4",
   "metadata": {},
   "source": [
    "8. Mention functions which can help us to find the version of python that we are currently working on?\n"
   ]
  },
  {
   "cell_type": "markdown",
   "id": "0c6e0ba8-2b4b-42c2-bc6b-957f9e824f68",
   "metadata": {},
   "source": [
    "The function sys.version can help us to find the version of python that we are currently working on.\n",
    "\n"
   ]
  },
  {
   "cell_type": "markdown",
   "id": "6cd6cee1-a55d-4741-9ceb-8d258708f20b",
   "metadata": {},
   "source": [
    "9. Python supports the creation of anonymous functions at runtime, using a construct called\n"
   ]
  },
  {
   "cell_type": "markdown",
   "id": "674a712d-ed83-42a5-8d85-5091a1e4b873",
   "metadata": {},
   "source": [
    "Lambda"
   ]
  },
  {
   "cell_type": "markdown",
   "id": "813a8eb1-26ca-4a91-9587-ffc2a5a41b85",
   "metadata": {},
   "source": [
    "10. What does pip stand for python?\n"
   ]
  },
  {
   "cell_type": "markdown",
   "id": "5802552c-03b8-402a-a98d-4f369e983cc9",
   "metadata": {},
   "source": [
    "Preferred Installer Program\n",
    "\n"
   ]
  },
  {
   "cell_type": "markdown",
   "id": "32c7453f-b8b6-4627-b2c2-2aec2e7abbdc",
   "metadata": {},
   "source": [
    "11. Mention a few built- in functions in python?\n",
    "\n",
    "\n",
    "1.. bool()\n",
    "\n",
    "\n",
    "This function takes a value as an argument and returns either True or False. It gives True if the value is not empty/zero/False. Or else it returns False.\n",
    "\n",
    "2. chr()\n",
    "This function takes the Unicode value as an input and returns the respective character.\n",
    "\n",
    "3. dict()\n",
    "This function converts the input into the dictionary data type and returns it."
   ]
  },
  {
   "cell_type": "markdown",
   "id": "d5aba503-5bb4-4632-91e2-b43922b4fadf",
   "metadata": {},
   "source": [
    "12.What is the maximum possible length of an identifier in Python?\n",
    "\n",
    "\n",
    "79 characters"
   ]
  },
  {
   "cell_type": "markdown",
   "id": "bc681de6-7d20-48c8-8bf5-cc8b860fa3bb",
   "metadata": {},
   "source": [
    "13. What are the benefits of using Python?\n",
    "\n",
    "\n",
    "1.Simple and Easy to learn\n",
    "\n",
    "\n",
    "2.Portable and Extensible\n",
    "\n",
    "3.Object-Oriented Programming\n",
    "\n",
    "4.Artificial Intelligence\n",
    "\n",
    "5.Big Data\n",
    "\n",
    "\n",
    "Python can handle plenty of an immense amount of data."
   ]
  },
  {
   "cell_type": "markdown",
   "id": "6b9063c4-7eb0-4982-b9ec-a4af6c5eb3f7",
   "metadata": {},
   "source": [
    "14. How is memory managed in Python?\n",
    "\n",
    "\n",
    "Memory in Python is managed by Python private heap space. All Python objects and data structures are located in a private heap. This private heap is taken care of by Python Interpreter itself, and a programmer doesn’t have access to this private heap. Python memory manager takes care of the allocation of Python private heap space. Memory for Python private heap space is made available by Python’s in-built garbage collector, which recycles and frees up all the unused memory. The allocation of heap space for Python objects and other internal buffers is performed on demand by the Python memory manager through the Python/C API functions listed in this document. To avoid memory corruption, extension writers should never try to operate on Python objects with the functions exported by the C library: malloc(), calloc(), realloc() and free()."
   ]
  },
  {
   "cell_type": "markdown",
   "id": "d94810c7-2a34-42f4-a189-5e4677f792f6",
   "metadata": {},
   "source": [
    "15. How to install Python on Windows and set path variables?\n",
    "\n",
    "\n",
    "First, we need to locate where the python is being installed after downloading it. Press WINDOWS key and search for “Python”, you will get something like this:Click on open file location and you will be in a location where Python is installed, Copy the location path from the top by clicking over it. Now, we have to add the above-copied path as a variable so that windows can recognize. Search for “Environmental Variables”, you will see something like this: Click on that( Now click the “Environmental Variables” button"
   ]
  },
  {
   "cell_type": "markdown",
   "id": "3c617d35-5322-4575-88b6-795b53d7590b",
   "metadata": {},
   "source": [
    "16. is indentation is required for the python?\n",
    "\n",
    "\n",
    "Indentation refers to the spaces at the beginning of a code line. Where in other programming languages the indentation in code is for readability only, for Python is very important. Python uses indentation to indicate a block of code"
   ]
  },
  {
   "cell_type": "code",
   "execution_count": null,
   "id": "e788a772-91a2-4731-8181-20fb2888f99e",
   "metadata": {},
   "outputs": [],
   "source": []
  }
 ],
 "metadata": {
  "kernelspec": {
   "display_name": "Python 3 (ipykernel)",
   "language": "python",
   "name": "python3"
  },
  "language_info": {
   "codemirror_mode": {
    "name": "ipython",
    "version": 3
   },
   "file_extension": ".py",
   "mimetype": "text/x-python",
   "name": "python",
   "nbconvert_exporter": "python",
   "pygments_lexer": "ipython3",
   "version": "3.10.8"
  }
 },
 "nbformat": 4,
 "nbformat_minor": 5
}
